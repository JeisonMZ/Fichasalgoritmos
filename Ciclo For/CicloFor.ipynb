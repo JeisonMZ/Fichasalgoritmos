{
  "nbformat": 4,
  "nbformat_minor": 0,
  "metadata": {
    "colab": {
      "provenance": []
    },
    "kernelspec": {
      "name": "python3",
      "display_name": "Python 3"
    },
    "language_info": {
      "name": "python"
    }
  },
  "cells": [
    {
      "cell_type": "markdown",
      "source": [
        "#### ESTRUCTURA 1  \n",
        "## CICLO FOR\n",
        "\n",
        "1. **Describa el por qué y para qué se utiliza.**  \n",
        "\n",
        " se utiliza para iterar o recorrer una secuencia (como una lista, una tupla, un diccionario, un conjunto o un rango de números) y ejecutar un bloque de código repetidamente para cada elemento de esa secuencia.\n",
        "  \n",
        "2. **Busque en internet un ejemplo y agreguelo internamente en el recuadro.**"
      ],
      "metadata": {
        "id": "CxmdstRXQq4h"
      }
    },
    {
      "cell_type": "code",
      "source": [
        "# Lista de números\n",
        "numeros = [1, 2, 3, 4, 5]\n",
        "\n",
        "# Usamos el ciclo for para recorrer la lista\n",
        "for numero in numeros:\n",
        "    print(numero)"
      ],
      "metadata": {
        "id": "qrMIl4DaT8Jg"
      },
      "execution_count": null,
      "outputs": []
    },
    {
      "cell_type": "markdown",
      "source": [
        "#### BUSQUE UN ALGORITMO EN LINEA O EN EL LISTADO DE EJEMPLOS GENERADOS A CONTINUACIÓN QUE CORRESPONDA Y EXPLÍQUELO PASO A PASO  \n",
        "- Genere el link del audio y el link de GitHub.  \n",
        "\n",
        "🔗 **[AUDIO EXPLICATIVO](https://s17.aconvert.com/convert/p3r68-cdx67/evxlu-6jjxb.mp3)**"
      ],
      "metadata": {
        "id": "eiz0T48ET_8s"
      }
    },
    {
      "cell_type": "code",
      "source": [
        "palabra = input(\"Ingresa una palabra: \")\n",
        "contador_de_vocales = 0\n",
        "vocales = \"aeiouAEIOU\"\n",
        "\n",
        "for letra in palabra:\n",
        "    if letra in vocales:\n",
        "        contador_vocales += 1\n",
        "\n",
        "print(f\"La palabra {palabra} tiene {contador_vocales} vocales.\")"
      ],
      "metadata": {
        "id": "hr8OC031UFtn"
      },
      "execution_count": null,
      "outputs": []
    }
  ]
}