{
  "nbformat": 4,
  "nbformat_minor": 0,
  "metadata": {
    "colab": {
      "provenance": []
    },
    "kernelspec": {
      "name": "python3",
      "display_name": "Python 3"
    },
    "language_info": {
      "name": "python"
    }
  },
  "cells": [
    {
      "cell_type": "markdown",
      "source": [
        "#### ESTRUCTURA 1  \n",
        "#Diccionario\n",
        "\n",
        "1. **Describa el por qué y para qué se utiliza.**  \n",
        "\n",
        "   son estructuras de datos muy útiles y versátiles. Se utilizan para almacenar pares de clave y valor, lo que los hace ideales para organizar información que se puede acceder rápidamente a través de una clave.\n",
        "\n",
        "2. **Busque en internet un ejemplo y agreguelo internamente en el recuadro.**"
      ],
      "metadata": {
        "id": "tbdarPIs_BhN"
      }
    },
    {
      "cell_type": "code",
      "source": [
        "# Diccionario de un estudiante\n",
        "estudiante = {\n",
        "    \"nombre\": \"Juan\",\n",
        "    \"edad\": 20,\n",
        "    \"calificaciones\": [8, 9, 10],\n",
        "}\n",
        "\n",
        "# Acceder a los valores usando las claves\n",
        "print(estudiante[\"nombre\"])  # Imprime \"Juan\"\n",
        "print(estudiante[\"edad\"])    # Imprime 20\n",
        "print(estudiante[\"calificaciones\"])  # Imprime [8, 9, 10]\n",
        "\n",
        "# Modificar un valor\n",
        "estudiante[\"edad\"] = 21  # Cambiar la edad\n",
        "\n",
        "# Agregar una nueva clave-valor\n",
        "estudiante[\"curso\"] = \"Matemáticas\"\n",
        "\n",
        "# Mostrar el diccionario actualizado\n",
        "print(estudiante)\n"
      ],
      "metadata": {
        "id": "ASYql7NFKdBG"
      },
      "execution_count": null,
      "outputs": []
    },
    {
      "cell_type": "markdown",
      "source": [
        "#### BUSQUE UN ALGORITMO EN LINEA O EN EL LISTADO DE EJEMPLOS GENERADOS A CONTINUACIÓN QUE CORRESPONDA Y EXPLÍQUELO PASO A PASO  \n",
        "- Genere el link del audio y el link de GitHub.  \n",
        "\n",
        "🔗 **[AUDIO EXPLICATIVO](https://s19.aconvert.com/convert/p3r68-cdx67/92kcg-03buj.mp3)**  "
      ],
      "metadata": {
        "id": "oz9ybVIhKsAe"
      }
    },
    {
      "cell_type": "code",
      "source": [
        "persona = {\n",
        "    \"nombre\": \"Jeison\",\n",
        "    \"edad\": 22,\n",
        "    \"altura\": 180,\n",
        "    \"es_estudiante\": True\n",
        "}\n",
        "\n",
        "\n",
        "print(\"Diccionario de la persona:\", persona)\n",
        "print(\"Nombre:\", persona[\"nombre\"])\n",
        "print(\"Edad:\", persona[\"edad\"])\n",
        "\n",
        "persona[\"edad\"] = 23\n",
        "print(\"Edad actualizada:\", persona[\"edad\"])\n",
        "persona[\"ciudad\"] = \"Sabaneta\"\n",
        "print(\"Diccionario actualizado:\", persona)"
      ],
      "metadata": {
        "id": "3120S3uDMM0A"
      },
      "execution_count": null,
      "outputs": []
    }
  ]
}