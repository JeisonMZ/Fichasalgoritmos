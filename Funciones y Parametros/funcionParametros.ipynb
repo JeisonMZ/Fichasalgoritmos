{
  "nbformat": 4,
  "nbformat_minor": 0,
  "metadata": {
    "colab": {
      "provenance": []
    },
    "kernelspec": {
      "name": "python3",
      "display_name": "Python 3"
    },
    "language_info": {
      "name": "python"
    }
  },
  "cells": [
    {
      "cell_type": "markdown",
      "source": [
        "#### ESTRUCTURA 1  \n",
        "## FUNCIONES Y PARAMETROS\n",
        "\n",
        "1. **Describa el por qué y para qué se utiliza.**  \n",
        "\n",
        "es un bloque de código reutilizable que realiza una tarea específica, mientras que un parámetro es una variable que la función recibe como entrada para realizar esa tarea. Las funciones permiten organizar el código, facilitar la reutilización de código y hacer que el programa sea más legible y fácil de mantener\n",
        "  \n",
        "2. **Busque en internet un ejemplo y agreguelo internamente en el recuadro.**"
      ],
      "metadata": {
        "id": "Y2eV2NdEHjYt"
      }
    },
    {
      "cell_type": "code",
      "source": [
        "# Definimos la función\n",
        "def sumar(a, b):\n",
        "    resultado = a + b\n",
        "    return resultado\n",
        "\n",
        "# Llamamos a la función\n",
        "suma = sumar(5, 3)\n",
        "print(suma)  # Imprime 8"
      ],
      "metadata": {
        "id": "pkxmA5rgIpIr"
      },
      "execution_count": null,
      "outputs": []
    },
    {
      "cell_type": "markdown",
      "source": [
        "#### BUSQUE UN ALGORITMO EN LINEA O EN EL LISTADO DE EJEMPLOS GENERADOS A CONTINUACIÓN QUE CORRESPONDA Y EXPLÍQUELO PASO A PASO  \n",
        "- Genere el link del audio y el link de GitHub.  \n",
        "\n",
        "🔗 **[AUDIO EXPLICATIVO](#)**"
      ],
      "metadata": {
        "id": "JFZHQNbILM-z"
      }
    },
    {
      "cell_type": "code",
      "source": [
        "def calcular_area_rectangulo(ancho, alto):\n",
        "    area = ancho * alto\n",
        "    return area\n",
        "\n",
        "ancho_rectangulo = int(input(\"Ingrese el ancho del rectangulo, gracias: \"))\n",
        "alto_rectangulo = int(input(\"Ingrese el alto del rectangulo, gracias: \"))\n",
        "area = calcular_area_rectangulo(ancho_rectangulo, alto_rectangulo)\n",
        "\n",
        "print(f\"El área del rectángulo de {ancho_rectangulo} x {alto_rectangulo} es: {area}\")\n"
      ],
      "metadata": {
        "id": "O_ca25MILjfc"
      },
      "execution_count": null,
      "outputs": []
    }
  ]
}