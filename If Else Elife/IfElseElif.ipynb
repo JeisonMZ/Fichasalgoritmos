{
  "nbformat": 4,
  "nbformat_minor": 0,
  "metadata": {
    "colab": {
      "provenance": []
    },
    "kernelspec": {
      "name": "python3",
      "display_name": "Python 3"
    },
    "language_info": {
      "name": "python"
    }
  },
  "cells": [
    {
      "cell_type": "markdown",
      "source": [
        "#### ESTRUCTURA 1  \n",
        "## IF/ELSE - ELIF\n",
        "\n",
        "1. **Describa el por qué y para qué se utiliza.**  \n",
        "\n",
        "  se utilizan para organizar el código de manera modular y reutilizable. Permiten agrupar un conjunto de instrucciones que realizan una tarea específica, lo que hace que el código sea más limpio, fácil de entender, mantenible y reutilizable.\n",
        "  \n",
        "2. **Busque en internet un ejemplo y agreguelo internamente en el recuadro.**"
      ],
      "metadata": {
        "id": "G61zuPN8DWe2"
      }
    },
    {
      "cell_type": "code",
      "source": [
        "puntaje = int(input(\"Ingrese el puntaje de su nota de 1 a 100, gracias: \"))\n",
        "\n",
        "if puntaje >= 90:\n",
        "    print(\"¡Excelente! Has sacado una calificación excelente.\")\n",
        "elif puntaje >= 70:\n",
        "    print(\"Aprobado. Buen trabajo, pero puedes mejorar.\")\n",
        "elif puntaje >= 50:\n",
        "    print(\"Suficiente. Has aprobado, pero necesitas más esfuerzo.\")\n",
        "else:\n",
        "    print(\"Reprobado. Necesitas estudiar más para aprobar.\")\n"
      ],
      "metadata": {
        "id": "6HSYKT3RDp7x"
      },
      "execution_count": null,
      "outputs": []
    },
    {
      "cell_type": "markdown",
      "source": [
        "#### BUSQUE UN ALGORITMO EN LINEA O EN EL LISTADO DE EJEMPLOS GENERADOS A CONTINUACIÓN QUE CORRESPONDA Y EXPLÍQUELO PASO A PASO  \n",
        "- Genere el link del audio y el link de GitHub.  \n",
        "\n",
        "🔗 **[AUDIO EXPLICATIVO](https://s17.aconvert.com/convert/p3r68-cdx67/fw7nl-fiwn1.mp3)**"
      ],
      "metadata": {
        "id": "0P7UlDfpGTfL"
      }
    },
    {
      "cell_type": "code",
      "source": [
        "puntaje = int(input(\"Ingrese el puntaje de su nota de 1 a 100, gracias: \"))\n",
        "\n",
        "if puntaje >= 90:\n",
        "    print(\"perfecto Has sacado una calificación excelente\")\n",
        "elif puntaje >= 70:\n",
        "    print(\"Aprobado. Buen trabajo, pero puedes mejorar\")\n",
        "elif puntaje >= 50:\n",
        "    print(\"Lamentablemete tendras que hacer una recuperacion\")\n",
        "else:\n",
        "    print(\"Reprobado. Necesitas estudiar más para aprobar.\")"
      ],
      "metadata": {
        "id": "ojO6YWdnGXsq"
      },
      "execution_count": null,
      "outputs": []
    }
  ]
}