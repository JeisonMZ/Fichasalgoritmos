{
  "nbformat": 4,
  "nbformat_minor": 0,
  "metadata": {
    "colab": {
      "provenance": []
    },
    "kernelspec": {
      "name": "python3",
      "display_name": "Python 3"
    },
    "language_info": {
      "name": "python"
    }
  },
  "cells": [
    {
      "cell_type": "markdown",
      "source": [
        "#### ESTRUCTURA 1  \n",
        "# IMPLEMENTACION DE IMPRESION\n",
        "\n",
        "1. **Describa el por qué y para qué se utiliza.**  \n",
        "\n",
        "  se utiliza principalmente para mostrar información en la consola o en la salida estándar. Esto tiene varias utilidades y propósitos dentro del desarrollo de programas\n",
        "\n",
        "2. **Busque en internet un ejemplo y agreguelo internamente en el recuadro.**"
      ],
      "metadata": {
        "id": "mF6tqy3l0V14"
      }
    },
    {
      "cell_type": "code",
      "source": [
        "x = 5\n",
        "y = 10\n",
        "print(x + y)  # Imprime 15\n"
      ],
      "metadata": {
        "id": "uCTvr6c-0Yl7"
      },
      "execution_count": null,
      "outputs": []
    },
    {
      "cell_type": "markdown",
      "source": [
        "#### BUSQUE UN ALGORITMO EN LINEA O EN EL LISTADO DE EJEMPLOS GENERADOS A CONTINUACIÓN QUE CORRESPONDA Y EXPLÍQUELO PASO A PASO  \n",
        "- Genere el link del audio y el link de GitHub.  \n",
        "\n",
        "🔗 **[AUDIO EXPLICATIVO](https://s19.aconvert.com/convert/p3r68-cdx67/eox3l-ttyrm.mp3)**  "
      ],
      "metadata": {
        "id": "NSweCMsK1KwT"
      }
    },
    {
      "cell_type": "code",
      "source": [
        "nombre_usuario = \"Jeison\"\n",
        "edad_usuario = 23\n",
        "\n",
        "print(\"Hola, mi nombre es\", nombre_usuario,  \"y tengo\", edad_usuario, \"años.\")"
      ],
      "metadata": {
        "id": "lBvzFr9n1OED"
      },
      "execution_count": null,
      "outputs": []
    }
  ]
}