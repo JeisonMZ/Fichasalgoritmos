{
  "nbformat": 4,
  "nbformat_minor": 0,
  "metadata": {
    "colab": {
      "provenance": []
    },
    "kernelspec": {
      "name": "python3",
      "display_name": "Python 3"
    },
    "language_info": {
      "name": "python"
    }
  },
  "cells": [
    {
      "cell_type": "markdown",
      "source": [
        "#### ESTRUCTURA 1  \n",
        "#LISTAS\n",
        "\n",
        "1. **Describa el por qué y para qué se utiliza.**  \n",
        "\n",
        "  Se utilizan para almacenar colecciones de elementos de manera ordenada, y lo que las hace especiales es que permiten modificar su contenido después de ser creadas.\n",
        "\n",
        "2. **Busque en internet un ejemplo y agreguelo internamente en el recuadro.**"
      ],
      "metadata": {
        "id": "xN-H4OIP5zta"
      }
    },
    {
      "cell_type": "code",
      "source": [
        "# Lista de nombres\n",
        "nombres = [\"Ana\", \"Luis\", \"Carlos\", \"María\", \"Sofia\", \"Pedro\"]\n",
        "\n",
        "# Filtrar los nombres que tienen más de 5 letras\n",
        "nombresLargos = [nombre for nombre in nombres if len(nombre) > 5]\n",
        "\n",
        "# Mostrar los nombres filtrados\n",
        "print(\"Nombres con más de 5 letras:\", nombresLargos)\n"
      ],
      "metadata": {
        "id": "_cVJSY9W7JK2"
      },
      "execution_count": null,
      "outputs": []
    },
    {
      "cell_type": "markdown",
      "source": [
        "#### BUSQUE UN ALGORITMO EN LINEA O EN EL LISTADO DE EJEMPLOS GENERADOS A CONTINUACIÓN QUE CORRESPONDA Y EXPLÍQUELO PASO A PASO  \n",
        "- Genere el link del audio y el link de GitHub.  \n",
        "\n",
        "🔗 **[AUDIO EXPLICATIVO](https://s21.aconvert.com/convert/p3r68-cdx67/qlxc5-l026o.mp3)**  "
      ],
      "metadata": {
        "id": "W_CcfU5v8nMj"
      }
    },
    {
      "cell_type": "code",
      "source": [
        "frutas = [\"manzana\", \"plátano\", \"cereza\", \"naranja\"]\n",
        "\n",
        "print(\"Lista de frutas:\", frutas)\n",
        "print(\"La primera fruta es:\", frutas[0])\n",
        "print(\"La segunda fruta es:\", frutas[1])\n",
        "print(\"La tercera fruta es:\", frutas[2])\n",
        "print(\"La cuarto fruta es:\", frutas[3])"
      ],
      "metadata": {
        "id": "BY4ycrCX8rx-"
      },
      "execution_count": null,
      "outputs": []
    }
  ]
}