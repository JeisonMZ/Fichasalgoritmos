{
  "nbformat": 4,
  "nbformat_minor": 0,
  "metadata": {
    "colab": {
      "provenance": []
    },
    "kernelspec": {
      "name": "python3",
      "display_name": "Python 3"
    },
    "language_info": {
      "name": "python"
    }
  },
  "cells": [
    {
      "cell_type": "markdown",
      "source": [
        "#### ESTRUCTURA 1  \n",
        "#OPERADORES LOGICOS\n",
        "\n",
        "1. **Describa el por qué y para qué se utiliza.**  \n",
        "\n",
        "  se utilizan para realizar operaciones lógicas entre condiciones o expresiones booleanas (es decir, que pueden ser verdaderas o falsas). Estos operadores permiten tomar decisiones más complejas en el código y trabajar con varias condiciones a la vez.\n",
        "## LOGICA COMPUTACIONAL\n",
        "  son estructuras de control de flujo en Python que se utilizan para tomar decisiones en función de condiciones booleanas (verdaderas o falsas). Estas estructuras permiten ejecutar diferentes bloques de código dependiendo de si una condición se cumple o no.\n",
        "  \n",
        "2. **Busque en internet un ejemplo y agreguelo internamente en el recuadro.**"
      ],
      "metadata": {
        "id": "G8jkFduB8_Lf"
      }
    },
    {
      "cell_type": "code",
      "source": [
        "# Número para comprobar\n",
        "numero = 15\n",
        "\n",
        "# Usamos 'and' para verificar si el número está entre 10 y 20\n",
        "if numero > 10 and numero < 20:\n",
        "    print(\"El número está entre 10 y 20\")\n",
        "\n",
        "# Usamos 'or' para verificar si el número es negativo o mayor que 10\n",
        "if numero < 0 or numero > 10:\n",
        "    print(\"El número es mayor que 10 o negativo\")\n",
        "\n",
        "# Usamos 'not' para verificar si el número NO es 10\n",
        "if not numero == 10:\n",
        "    print(\"El número no es 10\")"
      ],
      "metadata": {
        "id": "2b_jJ5lcAxLa"
      },
      "execution_count": null,
      "outputs": []
    },
    {
      "cell_type": "markdown",
      "source": [
        "#### BUSQUE UN ALGORITMO EN LINEA O EN EL LISTADO DE EJEMPLOS GENERADOS A CONTINUACIÓN QUE CORRESPONDA Y EXPLÍQUELO PASO A PASO  \n",
        "- Genere el link del audio y el link de GitHub.  \n",
        "\n",
        "🔗 **[AUDIO EXPLICATIVO](https://s17.aconvert.com/convert/p3r68-cdx67/432as-38k29.mp3)**  "
      ],
      "metadata": {
        "id": "mKoorq77A4wB"
      }
    },
    {
      "cell_type": "code",
      "source": [
        "edad = 23\n",
        "dinero = 50\n",
        "en_lista_vip = False\n",
        "\n",
        "# La persona puede entrar si tiene al menos 18 años y tiene más de 30 dólares o esta en la lista VIP\n",
        "\n",
        "puede_entrar_como_normal = (edad >= 18) and (dinero > 30)\n",
        "print(\"¿Puede entrar como cliente normal?\", puede_entrar_como_normal)\n",
        "\n",
        "puede_entrar_gratis = (edad >= 28) or en_lista_vip\n",
        "print(\"¿Puede entrar gratis?\", puede_entrar_gratis)\n",
        "\n",
        "no_puede_entrar = not (edad >= 18) or not (dinero > 30)\n",
        "print(\"¿Puede entrar? (Rechazado si no cumple condiciones):\", no_puede_entrar)\n",
        "\n",
        "puede_entrar_exclusivo = (dinero >= 100) and en_lista_vip\n",
        "print(\"¿Puede entrar como cliente exclusivo?\", puede_entrar_exclusivo)"
      ],
      "metadata": {
        "id": "JyHC7reMBPqx",
        "colab": {
          "base_uri": "https://localhost:8080/"
        },
        "outputId": "dc9a8718-bf29-4b79-f454-1625c9e934f7"
      },
      "execution_count": 1,
      "outputs": [
        {
          "output_type": "stream",
          "name": "stdout",
          "text": [
            "¿Puede entrar como cliente normal? True\n",
            "¿Puede entrar gratis? False\n",
            "¿Puede entrar? (Rechazado si no cumple condiciones): False\n",
            "¿Puede entrar como cliente exclusivo? False\n"
          ]
        }
      ]
    },
    {
      "cell_type": "code",
      "source": [
        "edad = 23\n",
        "tiene_cupon = True\n",
        "cupon_especial = False\n",
        "\n",
        "if (edad > 18) and tiene_cupon:\n",
        "    print(\"Descuento normal: ¡Puedes recibir el descuento!\")\n",
        "else:\n",
        "    print(\"Descuento normal: No cumples con las condiciones para el descuento normal.\")\n",
        "\n",
        "if (edad < 18) or cupon_especial:\n",
        "    print(\"Descuento especial: ¡Puedes recibir el descuento especial!\")\n",
        "else:\n",
        "    print(\"Descuento especial: No tienes derecho al descuento especial.\")"
      ],
      "metadata": {
        "id": "RXImQMz3Bbdd"
      },
      "execution_count": null,
      "outputs": []
    }
  ]
}