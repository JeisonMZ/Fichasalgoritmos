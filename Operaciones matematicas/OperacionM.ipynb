{
  "nbformat": 4,
  "nbformat_minor": 0,
  "metadata": {
    "colab": {
      "provenance": []
    },
    "kernelspec": {
      "name": "python3",
      "display_name": "Python 3"
    },
    "language_info": {
      "name": "python"
    }
  },
  "cells": [
    {
      "cell_type": "markdown",
      "source": [
        "#### ESTRUCTURA 1  \n",
        "#OPERACIONES MATEMATICAS\n",
        "\n",
        "1. **Describa el por qué y para qué se utiliza.**  \n",
        "\n",
        "  se utilizan para realizar cálculos y manipular números de manera eficiente y rápida. Python ofrece un conjunto de herramientas para trabajar con números enteros (int), números de punto flotante (float), complejos (complex), y para realizar operaciones matemáticas básicas (como suma, resta, multiplicación, división)\n",
        "  \n",
        "2. **Busque en internet un ejemplo y agreguelo internamente en el recuadro.**"
      ],
      "metadata": {
        "id": "w0ewA_hqMjY2"
      }
    },
    {
      "cell_type": "code",
      "source": [
        "# Precio original del producto\n",
        "precio_original = 150\n",
        "\n",
        "# Porcentaje de descuento (10%)\n",
        "descuento = 0.10\n",
        "\n",
        "# Porcentaje de impuesto (15%)\n",
        "impuesto = 0.15\n",
        "\n",
        "# Calcular el descuento\n",
        "precio_con_descuento = precio_original - (precio_original * descuento)\n",
        "\n",
        "# Calcular el impuesto sobre el precio con descuento\n",
        "precio_final = precio_con_descuento + (precio_con_descuento * impuesto)\n",
        "\n",
        "# Mostrar resultados\n",
        "print(\"Precio original:\", precio_original)\n",
        "print(\"Precio con descuento:\", precio_con_descuento)\n",
        "print(\"Precio final con impuesto:\", precio_final)"
      ],
      "metadata": {
        "id": "R---csTVNDPE"
      },
      "execution_count": null,
      "outputs": []
    },
    {
      "cell_type": "markdown",
      "source": [
        "#### BUSQUE UN ALGORITMO EN LINEA O EN EL LISTADO DE EJEMPLOS GENERADOS A CONTINUACIÓN QUE CORRESPONDA Y EXPLÍQUELO PASO A PASO  \n",
        "- Genere el link del audio y el link de GitHub.  \n",
        "\n",
        "🔗 **[AUDIO EXPLICATIVO](https://s51.aconvert.com/convert/p3r68-cdx67/n8rxg-qjcfv.mp3)**  "
      ],
      "metadata": {
        "id": "-dFPpIFdOaNt"
      }
    },
    {
      "cell_type": "code",
      "source": [
        "a = 7\n",
        "b = 3\n",
        "\n",
        "suma = a + b\n",
        "resta = a - b\n",
        "multiplicacion = a * b\n",
        "division = a / b\n",
        "\n",
        "\n",
        "print(\"Suma:\", suma)\n",
        "print(\"Resta:\", resta)\n",
        "print(\"Multiplicación:\", multiplicacion)\n",
        "print(\"División:\", division)"
      ],
      "metadata": {
        "id": "8h6V7JPDOeEY"
      },
      "execution_count": null,
      "outputs": []
    }
  ]
}