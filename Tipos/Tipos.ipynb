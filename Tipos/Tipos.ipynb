{
  "nbformat": 4,
  "nbformat_minor": 0,
  "metadata": {
    "colab": {
      "provenance": []
    },
    "kernelspec": {
      "name": "python3",
      "display_name": "Python 3"
    },
    "language_info": {
      "name": "python"
    }
  },
  "cells": [
    {
      "cell_type": "markdown",
      "source": [
        "#### ESTRUCTURA 1  \n",
        "# TIPOS\n",
        "\n",
        "1. **Describa el por qué y para qué se utiliza.**  \n",
        "\n",
        "  son fundamentales para comprender cómo se almacenan y manipulan los valores en la memoria. Cada tipo de dato tiene sus propias propiedades y comportamientos, y su correcto uso es esencial para escribir programas eficientes y correctos.\n",
        "\n",
        "2. **Busque en internet un ejemplo y agreguelo internamente en el recuadro.**"
      ],
      "metadata": {
        "id": "CmHedc7n1dSD"
      }
    },
    {
      "cell_type": "code",
      "source": [
        "# 1. Entero (int)\n",
        "edad = 25\n",
        "print(f\"Edad (int): {edad}\")\n",
        "\n",
        "# 2. Flotante (float)\n",
        "temperatura = 36.6\n",
        "print(f\"Temperatura (float): {temperatura}\")\n",
        "\n",
        "# 3. Cadena de texto (str)\n",
        "nombre = \"Juan\"\n",
        "print(f\"Nombre (str): {nombre}\")\n",
        "\n",
        "# 4. Tupla (tuple)\n",
        "coordenadas = (10, 20)\n",
        "print(f\"Coordenadas (tuple): {coordenadas}\")\n",
        "\n",
        "\n",
        "# 5. Booleano (bool)\n",
        "es_mayor_de_edad = True\n",
        "print(f\"Es mayor de edad (bool): {es_mayor_de_edad}\")\n",
        "\n",
        "# 6. Ningún valor (NoneType)\n",
        "ningun_valor = None\n",
        "print(f\"Ningún valor (NoneType): {ningun_valor}\")\n"
      ],
      "metadata": {
        "id": "lqRblEB51rY4"
      },
      "execution_count": null,
      "outputs": []
    },
    {
      "cell_type": "markdown",
      "source": [
        "#### BUSQUE UN ALGORITMO EN LINEA O EN EL LISTADO DE EJEMPLOS GENERADOS A CONTINUACIÓN QUE CORRESPONDA Y EXPLÍQUELO PASO A PASO  \n",
        "- Genere el link del audio y el link de GitHub.  \n",
        "\n",
        "🔗 **[AUDIO EXPLICATIVO](https://s51.aconvert.com/convert/p3r68-cdx67/u7r34-plvuy.mp3)**  "
      ],
      "metadata": {
        "id": "RlrpTX4V5LBb"
      }
    },
    {
      "cell_type": "code",
      "source": [
        "nombre = \"Jeison\"\n",
        "edad = 23\n",
        "altura = 180\n",
        "es_estudiante = True\n",
        "\n",
        "print(\"Mi nombre es:\", nombre)\n",
        "print(\"Mi edad es:\", edad)\n",
        "print(\"Mi altura es:\", altura, \"centimetros\")\n",
        "print(\"Soy estudiante:\", es_estudiante)"
      ],
      "metadata": {
        "id": "x7t637IZ5O7J"
      },
      "execution_count": null,
      "outputs": []
    }
  ]
}