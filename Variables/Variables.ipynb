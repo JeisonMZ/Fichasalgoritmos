{
  "nbformat": 4,
  "nbformat_minor": 0,
  "metadata": {
    "colab": {
      "provenance": []
    },
    "kernelspec": {
      "name": "python3",
      "display_name": "Python 3"
    },
    "language_info": {
      "name": "python"
    }
  },
  "cells": [
    {
      "cell_type": "markdown",
      "source": [
        "#### ESTRUCTURA 1  \n",
        "# MANEJO DE VARIABLES  \n",
        "\n",
        "1. **Describa el por qué y para qué se utiliza.**  \n",
        "\n",
        "  Las variables se utilizan en programación para almacenar datos que pueden cambiar o ser manipulados durante la ejecución de un programa,permitiendo que esa información sea utilizada, modificada y procesada más adelante.\n",
        "\n",
        "2. **Busque en internet un ejemplo y agreguelo internamente en el recuadro.**"
      ],
      "metadata": {
        "id": "JBKd2Q9h6_I0"
      }
    },
    {
      "cell_type": "code",
      "source": [
        "# Definimos las variables\n",
        "nombre = \"Juan\"  # Almacenamos un nombre en la variable 'nombre'\n",
        "edad = 25        # Almacenamos un número (edad) en la variable 'edad'\n",
        "altura = 1.75    # Almacenamos un número decimal (altura) en la variable 'altura'\n",
        "\n",
        "# Imprimimos la información usando las variables\n",
        "print(\"Nombre:\", nombre)\n",
        "print(\"Edad:\", edad)\n",
        "print(\"Altura:\", altura)\n",
        "\n",
        "# Realizamos una operación utilizando variables\n",
        "años_faltantes_para_30 = 30 - edad  # Calculamos los años que faltan para llegar a los 30 años\n",
        "\n",
        "# Mostramos el resultado de la operación\n",
        "print(\"Años faltantes para los 30 años:\", años_faltantes_para_30)\n"
      ],
      "metadata": {
        "id": "aOfJbRUbHVLi"
      },
      "execution_count": null,
      "outputs": []
    },
    {
      "cell_type": "markdown",
      "source": [
        "#### BUSQUE UN ALGORITMO EN LINEA O EN EL LISTADO DE EJEMPLOS GENERADOS A CONTINUACIÓN QUE CORRESPONDA Y EXPLÍQUELO PASO A PASO  \n",
        "- Genere el link del audio y el link de GitHub.  \n",
        "\n",
        "🔗 **[AUDIO EXPLICATIVO](https://s19.aconvert.com/convert/p3r68-cdx67/eox3l-ttyrm.mp3)**  "
      ],
      "metadata": {
        "id": "YRhPxicFJJtn"
      }
    },
    {
      "cell_type": "code",
      "source": [
        "nombre = \"Jeison\"\n",
        "edad = 23\n",
        "\n",
        "print(\"Hola, mi nombre es \", nombre , \" y tengo \" , edad , \" años.\")"
      ],
      "metadata": {
        "id": "wEjGl8vuySrr",
        "colab": {
          "base_uri": "https://localhost:8080/"
        },
        "outputId": "7e54b1e7-f621-443f-ac17-bb3ba51b5a0c"
      },
      "execution_count": 1,
      "outputs": [
        {
          "output_type": "stream",
          "name": "stdout",
          "text": [
            "Hola, mi nombre es  Jeison  y tengo  23  años.\n"
          ]
        }
      ]
    }
  ]
}